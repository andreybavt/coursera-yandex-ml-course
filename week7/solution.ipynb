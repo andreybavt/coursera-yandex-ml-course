{
 "cells": [
  {
   "cell_type": "code",
   "execution_count": 1,
   "metadata": {},
   "outputs": [],
   "source": [
    "import pandas as pd\n",
    "%matplotlib inline\n",
    "import numpy as np\n",
    "from sklearn.decomposition import PCA\n",
    "\n",
    "from matplotlib import pyplot as plt\n",
    "\n",
    "from sklearn.model_selection import KFold\n",
    "from sklearn.ensemble import GradientBoostingClassifier\n",
    "from sklearn.model_selection import train_test_split\n",
    "from sklearn.metrics import roc_auc_score\n",
    "from datetime import datetime\n",
    "from sklearn.model_selection import cross_val_score\n"
   ]
  },
  {
   "cell_type": "code",
   "execution_count": 2,
   "metadata": {},
   "outputs": [],
   "source": [
    "data = pd.read_csv('./features.csv', index_col='match_id')\n",
    "\n",
    "features_orig = data.drop( labels=['duration','radiant_win','tower_status_radiant', 'tower_status_dire',\n",
    "       'barracks_status_radiant', 'barracks_status_dire'],axis=1)\n",
    "empty_count = features_orig.shape[0] - features_orig.count()\n",
    "features_with_missing_values = list(empty_count[empty_count != 0].keys())\n",
    "features = features_orig.fillna(0)\n",
    "# features = pd.DataFrame(PCA(50).fit_transform(features))"
   ]
  },
  {
   "cell_type": "code",
   "execution_count": 209,
   "metadata": {},
   "outputs": [
    {
     "name": "stdout",
     "output_type": "stream",
     "text": [
      "Tree count: 10; Mean train score: 0.6644189331930598; Time 23 seconds\n",
      "Tree count: 20; Mean train score: 0.6811892035389311; Time 42 seconds\n",
      "Tree count: 30; Mean train score: 0.6890142608006791; Time 64 seconds\n",
      "Tree count: 40; Mean train score: 0.6945354868975804; Time 83 seconds\n",
      "Лучшее число деревьев:  40\n",
      "Validation score :  0.694535486898\n"
     ]
    }
   ],
   "source": [
    "n_splits = 5\n",
    "cv = KFold(n_splits=n_splits,shuffle=True)\n",
    "\n",
    "scores = list()\n",
    "train_times = list()\n",
    "trees_list = np.arange(1,5)*10\n",
    "for i in trees_list:\n",
    "    clf = GradientBoostingClassifier(n_estimators=i)\n",
    "    start = datetime.now()\n",
    "    score=cross_val_score(clf, features, data.radiant_win, cv=cv, scoring='roc_auc').mean()\n",
    "    scores.append(score)\n",
    "    delta = (datetime.now() - start).seconds\n",
    "    train_times.append(delta)\n",
    "    print(f'Tree count: {i}; Mean train score: {score}; Time {delta} seconds')\n",
    "    \n",
    "best_tree_number = trees_list[np.array(scores).argmax()]\n",
    "print('Лучшее число деревьев: ',best_tree_number)\n",
    "print('Score : ',np.array(scores).max()  )"
   ]
  },
  {
   "cell_type": "code",
   "execution_count": 210,
   "metadata": {},
   "outputs": [
    {
     "data": {
      "text/plain": [
       "[<matplotlib.lines.Line2D at 0x7fe6147465f8>]"
      ]
     },
     "execution_count": 210,
     "metadata": {},
     "output_type": "execute_result"
    },
    {
     "data": {
      "image/png": "[encoded data removed]",
      "text/plain": [
       "<matplotlib.figure.Figure at 0x7fe614746518>"
      ]
     },
     "metadata": {},
     "output_type": "display_data"
    }
   ],
   "source": [
    "plt.title('Качество от количества деревьев')\n",
    "plt.plot(trees_list,scores)\n",
    "\n"
   ]
  },
  {
   "cell_type": "code",
   "execution_count": 211,
   "metadata": {},
   "outputs": [
    {
     "data": {
      "text/plain": [
       "[<matplotlib.lines.Line2D at 0x7fe614848080>]"
      ]
     },
     "execution_count": 211,
     "metadata": {},
     "output_type": "execute_result"
    },
    {
     "data": {
      "image/png": "[encoded data removed]",
      "text/plain": [
       "<matplotlib.figure.Figure at 0x7fe614848ac8>"
      ]
     },
     "metadata": {},
     "output_type": "display_data"
    }
   ],
   "source": [
    "plt.title('Время обучения от количества деревьев')\n",
    "plt.plot(trees_list,train_times)\n"
   ]
  },
  {
   "cell_type": "markdown",
   "metadata": {},
   "source": [
    "### Подход 1: градиентный бустинг \"в лоб\". Отчёт\n",
    "\n",
    "1. В 12 признаках есть пропуски, к примеру: first_blood_time, radiant_bottle_time, если событие \"первая кровь\" не произошло или предмет bottle не был приобретён. Ниже список признаков с пропусками:\n",
    "\n",
    " 'first_blood_time',\n",
    " 'first_blood_team',\n",
    " 'first_blood_player1',\n",
    " 'first_blood_player2',\n",
    " 'radiant_bottle_time',\n",
    " 'radiant_courier_time',\n",
    " 'radiant_flying_courier_time',\n",
    " 'radiant_first_ward_time',\n",
    " 'dire_bottle_time',\n",
    " 'dire_courier_time',\n",
    " 'dire_flying_courier_time',\n",
    " 'dire_first_ward_time'\n",
    " \n",
    "2. Целевую переменную содержит столбец **radiant_win**\n",
    "3. ROC-AUC при 30 деревьях: 0.6364, \n",
    "\n",
    "    время обучения: 89 секунд\n",
    "    \n",
    "4. При увеличении числа деревьев растет качество на обучающей и тестовой выборках, при этом рост замедляется, тогда как время обучения линейно растёт. \n",
    "        \n",
    "      Для ускорения обучения можно :\n",
    "      * Задать меньшую глубину деревьям\n",
    "      * Уменьшить количество признаков с помощью метода главных компонент\n",
    "      "
   ]
  },
  {
   "cell_type": "code",
   "execution_count": 3,
   "metadata": {},
   "outputs": [],
   "source": [
    "from sklearn.preprocessing import StandardScaler\n",
    "from sklearn.linear_model import LogisticRegression"
   ]
  },
  {
   "cell_type": "code",
   "execution_count": 11,
   "metadata": {},
   "outputs": [],
   "source": [
    "def run_regression(features):\n",
    "    features = pd.DataFrame(StandardScaler().fit_transform(features.fillna(0)))\n",
    "\n",
    "\n",
    "    n_splits = 5\n",
    "    cv = KFold(n_splits=n_splits,shuffle=True)\n",
    "\n",
    "    \n",
    "    scores = list()\n",
    "    train_times = list()\n",
    "    \n",
    "#     c_list = np.logspace(0.001,1000,10)\n",
    "#     c_list = [0.01,1,100]\n",
    "    c_list = np.power(10,np.arange(-5.,6))\n",
    "    for i in c_list:\n",
    "        clf = LogisticRegression(C=i)\n",
    "        start = datetime.now()\n",
    "        score=cross_val_score(clf, features, data.radiant_win, cv=cv, scoring='roc_auc').mean()\n",
    "        delta = (datetime.now() - start).seconds\n",
    "        train_times.append(delta)\n",
    "        scores.append(score)\n",
    "        \n",
    "        print(f'C: {i}; Mean train score: {score}; Time {delta} seconds')\n",
    "\n",
    "\n",
    "\n",
    "    best_reg_param = c_list[np.array(scores).argmax()]\n",
    "    print('Лучший коэффициент регуляризации: ',best_reg_param)\n",
    "    print('Score : ',np.array(scores).max())\n",
    "    \n",
    "    plt.title('Качество от параметра регуляризации')\n",
    "    plt.semilogx(c_list,scores)\n",
    "\n",
    "    \n",
    "    \n"
   ]
  },
  {
   "cell_type": "code",
   "execution_count": 12,
   "metadata": {},
   "outputs": [
    {
     "name": "stdout",
     "output_type": "stream",
     "text": [
      "C: 1e-05; Mean train score: 0.6950458164225779; Time 2 seconds\n",
      "C: 0.0001; Mean train score: 0.7113277896602277; Time 4 seconds\n",
      "C: 0.001; Mean train score: 0.7163686639617547; Time 7 seconds\n",
      "C: 0.01; Mean train score: 0.7163552703196421; Time 9 seconds\n",
      "C: 0.1; Mean train score: 0.7162574771120231; Time 10 seconds\n",
      "C: 1.0; Mean train score: 0.7163662252119514; Time 10 seconds\n",
      "C: 10.0; Mean train score: 0.716390884849391; Time 10 seconds\n",
      "C: 100.0; Mean train score: 0.7164592144827256; Time 10 seconds\n",
      "C: 1000.0; Mean train score: 0.716251438978994; Time 10 seconds\n",
      "C: 10000.0; Mean train score: 0.7164650059309474; Time 10 seconds\n",
      "C: 100000.0; Mean train score: 0.7163575276317472; Time 10 seconds\n",
      "Лучший коэффициент регуляризации:  10000.0\n",
      "Score :  0.716465005931\n"
     ]
    },
    {
     "data": {
      "image/png": "[encoded data removed]",
      "text/plain": [
       "<matplotlib.figure.Figure at 0x7ff761316160>"
      ]
     },
     "metadata": {},
     "output_type": "display_data"
    }
   ],
   "source": [
    "run_regression(features_orig)"
   ]
  },
  {
   "cell_type": "code",
   "execution_count": null,
   "metadata": {},
   "outputs": [],
   "source": []
  },
  {
   "cell_type": "code",
   "execution_count": 13,
   "metadata": {},
   "outputs": [
    {
     "name": "stdout",
     "output_type": "stream",
     "text": [
      "C: 1e-05; Mean train score: 0.6949508259284677; Time 2 seconds\n",
      "C: 0.0001; Mean train score: 0.7112493662223176; Time 4 seconds\n",
      "C: 0.001; Mean train score: 0.7162305313339309; Time 7 seconds\n",
      "C: 0.01; Mean train score: 0.716389588653298; Time 9 seconds\n",
      "C: 0.1; Mean train score: 0.7164211424144658; Time 9 seconds\n",
      "C: 1.0; Mean train score: 0.716652813241258; Time 10 seconds\n",
      "C: 10.0; Mean train score: 0.7161977890228343; Time 10 seconds\n",
      "C: 100.0; Mean train score: 0.7163639707463128; Time 10 seconds\n",
      "C: 1000.0; Mean train score: 0.7164389495136568; Time 10 seconds\n",
      "C: 10000.0; Mean train score: 0.7164335313884739; Time 10 seconds\n",
      "C: 100000.0; Mean train score: 0.7164835068682314; Time 9 seconds\n",
      "Лучший коэффициент регуляризации:  1.0\n",
      "Score :  0.716652813241\n"
     ]
    },
    {
     "data": {
      "image/png": "[encoded data removed]",
      "text/plain": [
       "<matplotlib.figure.Figure at 0x7ff761089358>"
      ]
     },
     "metadata": {},
     "output_type": "display_data"
    }
   ],
   "source": [
    "scores = no_cat_features = features_orig.drop(['lobby_type',\n",
    " 'r1_hero',\n",
    " 'r2_hero',\n",
    " 'r3_hero',\n",
    " 'r4_hero',\n",
    " 'r5_hero',\n",
    " 'd1_hero',\n",
    " 'd2_hero',\n",
    " 'd3_hero',\n",
    " 'd4_hero',\n",
    " 'd5_hero'], axis=1)\n",
    "\n",
    "run_regression(no_cat_features)"
   ]
  },
  {
   "cell_type": "code",
   "execution_count": 14,
   "metadata": {},
   "outputs": [
    {
     "data": {
      "text/plain": [
       "-0.00018780731000000994"
      ]
     },
     "execution_count": 14,
     "metadata": {},
     "output_type": "execute_result"
    }
   ],
   "source": [
    "0.716465005931-0.716652813241"
   ]
  },
  {
   "cell_type": "code",
   "execution_count": null,
   "metadata": {},
   "outputs": [],
   "source": []
  }
 ],
 "metadata": {
  "kernelspec": {
   "display_name": "Python 3",
   "language": "python",
   "name": "python3"
  },
  "language_info": {
   "codemirror_mode": {
    "name": "ipython",
    "version": 3
   },
   "file_extension": ".py",
   "mimetype": "text/x-python",
   "name": "python",
   "nbconvert_exporter": "python",
   "pygments_lexer": "ipython3",
   "version": "3.6.3"
  }
 },
 "nbformat": 4,
 "nbformat_minor": 2
}
